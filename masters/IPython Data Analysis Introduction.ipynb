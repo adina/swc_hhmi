{
 "metadata": {
  "name": "IPython Data Analysis Introduction"
 },
 "nbformat": 3,
 "nbformat_minor": 0,
 "worksheets": [
  {
   "cells": [
    {
     "cell_type": "markdown",
     "metadata": {},
     "source": [
      "We'll be working with a dataset containing the number of medals won by country at the olympics since 2000.\n",
      "\n",
      "The dataset is available in the git repository for the workshop in the datasets/ directory.  We'll be loading the data directly from github for this example."
     ]
    },
    {
     "cell_type": "code",
     "collapsed": false,
     "input": [
      "import urllib2 #For reading from URLs\n",
      "import csv     #For reading formatted data files\n",
      "\n",
      "raw_medals_data = list()\n",
      "for line in csv.DictReader(urllib2.urlopen(\"https://raw.github.com/fishjord/swc_hhmi/master/datasets/olympic_medals.csv\")):\n",
      "    raw_medals_data.append(line)"
     ],
     "language": "python",
     "metadata": {},
     "outputs": [],
     "prompt_number": 4
    },
    {
     "cell_type": "markdown",
     "metadata": {},
     "source": [
      "First lets look at the first few records"
     ]
    },
    {
     "cell_type": "code",
     "collapsed": false,
     "input": [
      "raw_medals_data[:3]"
     ],
     "language": "python",
     "metadata": {},
     "outputs": [
      {
       "output_type": "pyout",
       "prompt_number": 10,
       "text": [
        "[{'Bronze Medals': '3',\n",
        "  'Country': 'Algeria',\n",
        "  'Gold Medals': '1',\n",
        "  'Silver Medals': '1',\n",
        "  'Year': '2000'},\n",
        " {'Bronze Medals': '3',\n",
        "  'Country': 'Argentina',\n",
        "  'Gold Medals': '0',\n",
        "  'Silver Medals': '17',\n",
        "  'Year': '2000'},\n",
        " {'Bronze Medals': '1',\n",
        "  'Country': 'Armenia',\n",
        "  'Gold Medals': '0',\n",
        "  'Silver Medals': '0',\n",
        "  'Year': '2000'}]"
       ]
      }
     ],
     "prompt_number": 10
    },
    {
     "cell_type": "markdown",
     "metadata": {},
     "source": [
      "Now we can ask questions like what are the fields each data point has?"
     ]
    },
    {
     "cell_type": "code",
     "collapsed": false,
     "input": [
      "print \"Each data point has the fields %s\" % raw_medals_data[0].keys()"
     ],
     "language": "python",
     "metadata": {},
     "outputs": [
      {
       "output_type": "stream",
       "stream": "stdout",
       "text": [
        "Each data point has the fields ['Silver Medals', 'Country', 'Gold Medals', 'Bronze Medals', 'Year']\n"
       ]
      }
     ],
     "prompt_number": 8
    },
    {
     "cell_type": "markdown",
     "metadata": {},
     "source": [
      "Or how many data points do we have?"
     ]
    },
    {
     "cell_type": "code",
     "collapsed": false,
     "input": [
      "print \"The dataset contains %d data points\" % len(raw_medals_data)"
     ],
     "language": "python",
     "metadata": {},
     "outputs": [
      {
       "output_type": "stream",
       "stream": "stdout",
       "text": [
        "The dataset contains 401 data points\n"
       ]
      }
     ],
     "prompt_number": 6
    },
    {
     "cell_type": "markdown",
     "metadata": {},
     "source": [
      "Or how about how many gold medals did the US win across all the years?"
     ]
    },
    {
     "cell_type": "code",
     "collapsed": false,
     "input": [
      "medals = 0\n",
      "for data in raw_medals_data:\n",
      "    if data[\"Country\"] == \"United States\":\n",
      "        medals = medals + int(data[\"Gold Medals\"])\n",
      "print \"The US won %d gold medals total for the years in question\" % medals"
     ],
     "language": "python",
     "metadata": {},
     "outputs": [
      {
       "output_type": "stream",
       "stream": "stdout",
       "text": [
        "The US won 552 gold medals total for the years in question\n"
       ]
      }
     ],
     "prompt_number": 14
    },
    {
     "cell_type": "markdown",
     "metadata": {},
     "source": [
      "What years are present in the dataset?"
     ]
    },
    {
     "cell_type": "code",
     "collapsed": false,
     "input": [
      "years = set()\n",
      "for data in raw_medals_data:\n",
      "    years.add(data[\"Year\"])\n",
      "print \"Years: %s\" % sorted(years)"
     ],
     "language": "python",
     "metadata": {},
     "outputs": [
      {
       "output_type": "stream",
       "stream": "stdout",
       "text": [
        "Years: ['2000', '2002', '2004', '2006', '2008', '2010', '2012']\n"
       ]
      }
     ],
     "prompt_number": 15
    },
    {
     "cell_type": "code",
     "collapsed": false,
     "input": [],
     "language": "python",
     "metadata": {},
     "outputs": []
    }
   ],
   "metadata": {}
  }
 ]
}