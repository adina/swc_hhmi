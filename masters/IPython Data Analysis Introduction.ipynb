{
 "metadata": {
  "name": "IPython Data Analysis Introduction"
 },
 "nbformat": 3,
 "nbformat_minor": 0,
 "worksheets": [
  {
   "cells": [
    {
     "cell_type": "markdown",
     "metadata": {},
     "source": [
      "We'll be working with a set of data "
     ]
    }
   ],
   "metadata": {}
  }
 ]
}